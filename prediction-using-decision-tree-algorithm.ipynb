{
 "cells": [
  {
   "cell_type": "code",
   "execution_count": 1,
   "id": "02de89ef",
   "metadata": {
    "_cell_guid": "b1076dfc-b9ad-4769-8c92-a6c4dae69d19",
    "_uuid": "8f2839f25d086af736a60e9eeb907d3b93b6e0e5",
    "execution": {
     "iopub.execute_input": "2021-09-19T16:49:42.310198Z",
     "iopub.status.busy": "2021-09-19T16:49:42.308920Z",
     "iopub.status.idle": "2021-09-19T16:49:42.335221Z",
     "shell.execute_reply": "2021-09-19T16:49:42.333888Z",
     "shell.execute_reply.started": "2021-09-19T16:48:50.487653Z"
    },
    "papermill": {
     "duration": 0.057268,
     "end_time": "2021-09-19T16:49:42.335529",
     "exception": false,
     "start_time": "2021-09-19T16:49:42.278261",
     "status": "completed"
    },
    "tags": []
   },
   "outputs": [
    {
     "name": "stdout",
     "output_type": "stream",
     "text": [
      "/kaggle/input/iris-dataset/Iris.csv\n"
     ]
    }
   ],
   "source": [
    "# This Python 3 environment comes with many helpful analytics libraries installed\n",
    "# It is defined by the kaggle/python Docker image: https://github.com/kaggle/docker-python\n",
    "# For example, here's several helpful packages to load\n",
    "\n",
    "import numpy as np # linear algebra\n",
    "import pandas as pd # data processing, CSV file I/O (e.g. pd.read_csv)\n",
    "\n",
    "# Input data files are available in the read-only \"../input/\" directory\n",
    "# For example, running this (by clicking run or pressing Shift+Enter) will list all files under the input directory\n",
    "\n",
    "import os\n",
    "for dirname, _, filenames in os.walk('/kaggle/input'):\n",
    "    for filename in filenames:\n",
    "        print(os.path.join(dirname, filename))\n",
    "\n",
    "# You can write up to 20GB to the current directory (/kaggle/working/) that gets preserved as output when you create a version using \"Save & Run All\" \n",
    "# You can also write temporary files to /kaggle/temp/, but they won't be saved outside of the current session"
   ]
  },
  {
   "cell_type": "code",
   "execution_count": 2,
   "id": "611062f2",
   "metadata": {
    "execution": {
     "iopub.execute_input": "2021-09-19T16:49:42.392011Z",
     "iopub.status.busy": "2021-09-19T16:49:42.390883Z",
     "iopub.status.idle": "2021-09-19T16:49:43.896670Z",
     "shell.execute_reply": "2021-09-19T16:49:43.895543Z",
     "shell.execute_reply.started": "2021-09-19T16:48:50.524636Z"
    },
    "papermill": {
     "duration": 1.534633,
     "end_time": "2021-09-19T16:49:43.896859",
     "exception": false,
     "start_time": "2021-09-19T16:49:42.362226",
     "status": "completed"
    },
    "tags": []
   },
   "outputs": [],
   "source": [
    "import pandas as pd \n",
    "import numpy as np \n",
    "import matplotlib.pyplot as plt \n",
    "import seaborn as sns \n",
    "from matplotlib.pyplot import figure\n",
    "from sklearn.tree import DecisionTreeRegressor"
   ]
  },
  {
   "cell_type": "code",
   "execution_count": 3,
   "id": "3f74c085",
   "metadata": {
    "execution": {
     "iopub.execute_input": "2021-09-19T16:49:43.955213Z",
     "iopub.status.busy": "2021-09-19T16:49:43.954389Z",
     "iopub.status.idle": "2021-09-19T16:49:43.994736Z",
     "shell.execute_reply": "2021-09-19T16:49:43.995360Z",
     "shell.execute_reply.started": "2021-09-19T16:48:51.723703Z"
    },
    "papermill": {
     "duration": 0.073644,
     "end_time": "2021-09-19T16:49:43.995577",
     "exception": false,
     "start_time": "2021-09-19T16:49:43.921933",
     "status": "completed"
    },
    "tags": []
   },
   "outputs": [
    {
     "data": {
      "text/html": [
       "<div>\n",
       "<style scoped>\n",
       "    .dataframe tbody tr th:only-of-type {\n",
       "        vertical-align: middle;\n",
       "    }\n",
       "\n",
       "    .dataframe tbody tr th {\n",
       "        vertical-align: top;\n",
       "    }\n",
       "\n",
       "    .dataframe thead th {\n",
       "        text-align: right;\n",
       "    }\n",
       "</style>\n",
       "<table border=\"1\" class=\"dataframe\">\n",
       "  <thead>\n",
       "    <tr style=\"text-align: right;\">\n",
       "      <th></th>\n",
       "      <th>Id</th>\n",
       "      <th>SepalLengthCm</th>\n",
       "      <th>SepalWidthCm</th>\n",
       "      <th>PetalLengthCm</th>\n",
       "      <th>PetalWidthCm</th>\n",
       "      <th>Species</th>\n",
       "    </tr>\n",
       "  </thead>\n",
       "  <tbody>\n",
       "    <tr>\n",
       "      <th>0</th>\n",
       "      <td>1</td>\n",
       "      <td>5.1</td>\n",
       "      <td>3.5</td>\n",
       "      <td>1.4</td>\n",
       "      <td>0.2</td>\n",
       "      <td>Iris-setosa</td>\n",
       "    </tr>\n",
       "    <tr>\n",
       "      <th>1</th>\n",
       "      <td>2</td>\n",
       "      <td>4.9</td>\n",
       "      <td>3.0</td>\n",
       "      <td>1.4</td>\n",
       "      <td>0.2</td>\n",
       "      <td>Iris-setosa</td>\n",
       "    </tr>\n",
       "    <tr>\n",
       "      <th>2</th>\n",
       "      <td>3</td>\n",
       "      <td>4.7</td>\n",
       "      <td>3.2</td>\n",
       "      <td>1.3</td>\n",
       "      <td>0.2</td>\n",
       "      <td>Iris-setosa</td>\n",
       "    </tr>\n",
       "    <tr>\n",
       "      <th>3</th>\n",
       "      <td>4</td>\n",
       "      <td>4.6</td>\n",
       "      <td>3.1</td>\n",
       "      <td>1.5</td>\n",
       "      <td>0.2</td>\n",
       "      <td>Iris-setosa</td>\n",
       "    </tr>\n",
       "    <tr>\n",
       "      <th>4</th>\n",
       "      <td>5</td>\n",
       "      <td>5.0</td>\n",
       "      <td>3.6</td>\n",
       "      <td>1.4</td>\n",
       "      <td>0.2</td>\n",
       "      <td>Iris-setosa</td>\n",
       "    </tr>\n",
       "  </tbody>\n",
       "</table>\n",
       "</div>"
      ],
      "text/plain": [
       "   Id  SepalLengthCm  SepalWidthCm  PetalLengthCm  PetalWidthCm      Species\n",
       "0   1            5.1           3.5            1.4           0.2  Iris-setosa\n",
       "1   2            4.9           3.0            1.4           0.2  Iris-setosa\n",
       "2   3            4.7           3.2            1.3           0.2  Iris-setosa\n",
       "3   4            4.6           3.1            1.5           0.2  Iris-setosa\n",
       "4   5            5.0           3.6            1.4           0.2  Iris-setosa"
      ]
     },
     "execution_count": 3,
     "metadata": {},
     "output_type": "execute_result"
    }
   ],
   "source": [
    "df = pd.read_csv(\"../input/iris-dataset/Iris.csv\")\n",
    "df.head()"
   ]
  },
  {
   "cell_type": "markdown",
   "id": "066e81bd",
   "metadata": {
    "papermill": {
     "duration": 0.024823,
     "end_time": "2021-09-19T16:49:44.045395",
     "exception": false,
     "start_time": "2021-09-19T16:49:44.020572",
     "status": "completed"
    },
    "tags": []
   },
   "source": [
    "**cleaning of data ****"
   ]
  },
  {
   "cell_type": "code",
   "execution_count": 4,
   "id": "89d99157",
   "metadata": {
    "execution": {
     "iopub.execute_input": "2021-09-19T16:49:44.104729Z",
     "iopub.status.busy": "2021-09-19T16:49:44.103973Z",
     "iopub.status.idle": "2021-09-19T16:49:44.107810Z",
     "shell.execute_reply": "2021-09-19T16:49:44.107100Z",
     "shell.execute_reply.started": "2021-09-19T16:48:51.760539Z"
    },
    "papermill": {
     "duration": 0.036462,
     "end_time": "2021-09-19T16:49:44.107967",
     "exception": false,
     "start_time": "2021-09-19T16:49:44.071505",
     "status": "completed"
    },
    "tags": []
   },
   "outputs": [
    {
     "name": "stdout",
     "output_type": "stream",
     "text": [
      "(150, 6)\n"
     ]
    }
   ],
   "source": [
    "print(df.shape)"
   ]
  },
  {
   "cell_type": "code",
   "execution_count": 5,
   "id": "9d2fbb30",
   "metadata": {
    "execution": {
     "iopub.execute_input": "2021-09-19T16:49:44.163359Z",
     "iopub.status.busy": "2021-09-19T16:49:44.162651Z",
     "iopub.status.idle": "2021-09-19T16:49:44.187852Z",
     "shell.execute_reply": "2021-09-19T16:49:44.188383Z",
     "shell.execute_reply.started": "2021-09-19T16:48:51.768151Z"
    },
    "papermill": {
     "duration": 0.054562,
     "end_time": "2021-09-19T16:49:44.188563",
     "exception": false,
     "start_time": "2021-09-19T16:49:44.134001",
     "status": "completed"
    },
    "tags": []
   },
   "outputs": [
    {
     "name": "stdout",
     "output_type": "stream",
     "text": [
      "<class 'pandas.core.frame.DataFrame'>\n",
      "RangeIndex: 150 entries, 0 to 149\n",
      "Data columns (total 6 columns):\n",
      " #   Column         Non-Null Count  Dtype  \n",
      "---  ------         --------------  -----  \n",
      " 0   Id             150 non-null    int64  \n",
      " 1   SepalLengthCm  150 non-null    float64\n",
      " 2   SepalWidthCm   150 non-null    float64\n",
      " 3   PetalLengthCm  150 non-null    float64\n",
      " 4   PetalWidthCm   150 non-null    float64\n",
      " 5   Species        150 non-null    object \n",
      "dtypes: float64(4), int64(1), object(1)\n",
      "memory usage: 7.2+ KB\n",
      "None\n"
     ]
    }
   ],
   "source": [
    "print(df.info())"
   ]
  },
  {
   "cell_type": "code",
   "execution_count": 6,
   "id": "2f4c1e05",
   "metadata": {
    "execution": {
     "iopub.execute_input": "2021-09-19T16:49:44.243827Z",
     "iopub.status.busy": "2021-09-19T16:49:44.243102Z",
     "iopub.status.idle": "2021-09-19T16:49:44.274902Z",
     "shell.execute_reply": "2021-09-19T16:49:44.275423Z",
     "shell.execute_reply.started": "2021-09-19T16:48:51.798495Z"
    },
    "papermill": {
     "duration": 0.061187,
     "end_time": "2021-09-19T16:49:44.275620",
     "exception": false,
     "start_time": "2021-09-19T16:49:44.214433",
     "status": "completed"
    },
    "tags": []
   },
   "outputs": [
    {
     "data": {
      "text/html": [
       "<div>\n",
       "<style scoped>\n",
       "    .dataframe tbody tr th:only-of-type {\n",
       "        vertical-align: middle;\n",
       "    }\n",
       "\n",
       "    .dataframe tbody tr th {\n",
       "        vertical-align: top;\n",
       "    }\n",
       "\n",
       "    .dataframe thead th {\n",
       "        text-align: right;\n",
       "    }\n",
       "</style>\n",
       "<table border=\"1\" class=\"dataframe\">\n",
       "  <thead>\n",
       "    <tr style=\"text-align: right;\">\n",
       "      <th></th>\n",
       "      <th>Id</th>\n",
       "      <th>SepalLengthCm</th>\n",
       "      <th>SepalWidthCm</th>\n",
       "      <th>PetalLengthCm</th>\n",
       "      <th>PetalWidthCm</th>\n",
       "    </tr>\n",
       "  </thead>\n",
       "  <tbody>\n",
       "    <tr>\n",
       "      <th>count</th>\n",
       "      <td>150.000000</td>\n",
       "      <td>150.000000</td>\n",
       "      <td>150.000000</td>\n",
       "      <td>150.000000</td>\n",
       "      <td>150.000000</td>\n",
       "    </tr>\n",
       "    <tr>\n",
       "      <th>mean</th>\n",
       "      <td>75.500000</td>\n",
       "      <td>5.843333</td>\n",
       "      <td>3.054000</td>\n",
       "      <td>3.758667</td>\n",
       "      <td>1.198667</td>\n",
       "    </tr>\n",
       "    <tr>\n",
       "      <th>std</th>\n",
       "      <td>43.445368</td>\n",
       "      <td>0.828066</td>\n",
       "      <td>0.433594</td>\n",
       "      <td>1.764420</td>\n",
       "      <td>0.763161</td>\n",
       "    </tr>\n",
       "    <tr>\n",
       "      <th>min</th>\n",
       "      <td>1.000000</td>\n",
       "      <td>4.300000</td>\n",
       "      <td>2.000000</td>\n",
       "      <td>1.000000</td>\n",
       "      <td>0.100000</td>\n",
       "    </tr>\n",
       "    <tr>\n",
       "      <th>25%</th>\n",
       "      <td>38.250000</td>\n",
       "      <td>5.100000</td>\n",
       "      <td>2.800000</td>\n",
       "      <td>1.600000</td>\n",
       "      <td>0.300000</td>\n",
       "    </tr>\n",
       "    <tr>\n",
       "      <th>50%</th>\n",
       "      <td>75.500000</td>\n",
       "      <td>5.800000</td>\n",
       "      <td>3.000000</td>\n",
       "      <td>4.350000</td>\n",
       "      <td>1.300000</td>\n",
       "    </tr>\n",
       "    <tr>\n",
       "      <th>75%</th>\n",
       "      <td>112.750000</td>\n",
       "      <td>6.400000</td>\n",
       "      <td>3.300000</td>\n",
       "      <td>5.100000</td>\n",
       "      <td>1.800000</td>\n",
       "    </tr>\n",
       "    <tr>\n",
       "      <th>max</th>\n",
       "      <td>150.000000</td>\n",
       "      <td>7.900000</td>\n",
       "      <td>4.400000</td>\n",
       "      <td>6.900000</td>\n",
       "      <td>2.500000</td>\n",
       "    </tr>\n",
       "  </tbody>\n",
       "</table>\n",
       "</div>"
      ],
      "text/plain": [
       "               Id  SepalLengthCm  SepalWidthCm  PetalLengthCm  PetalWidthCm\n",
       "count  150.000000     150.000000    150.000000     150.000000    150.000000\n",
       "mean    75.500000       5.843333      3.054000       3.758667      1.198667\n",
       "std     43.445368       0.828066      0.433594       1.764420      0.763161\n",
       "min      1.000000       4.300000      2.000000       1.000000      0.100000\n",
       "25%     38.250000       5.100000      2.800000       1.600000      0.300000\n",
       "50%     75.500000       5.800000      3.000000       4.350000      1.300000\n",
       "75%    112.750000       6.400000      3.300000       5.100000      1.800000\n",
       "max    150.000000       7.900000      4.400000       6.900000      2.500000"
      ]
     },
     "execution_count": 6,
     "metadata": {},
     "output_type": "execute_result"
    }
   ],
   "source": [
    "df.describe()"
   ]
  },
  {
   "cell_type": "code",
   "execution_count": 7,
   "id": "be79b056",
   "metadata": {
    "execution": {
     "iopub.execute_input": "2021-09-19T16:49:44.336808Z",
     "iopub.status.busy": "2021-09-19T16:49:44.335949Z",
     "iopub.status.idle": "2021-09-19T16:49:44.339295Z",
     "shell.execute_reply": "2021-09-19T16:49:44.339794Z",
     "shell.execute_reply.started": "2021-09-19T16:48:51.826854Z"
    },
    "papermill": {
     "duration": 0.038239,
     "end_time": "2021-09-19T16:49:44.339973",
     "exception": false,
     "start_time": "2021-09-19T16:49:44.301734",
     "status": "completed"
    },
    "tags": []
   },
   "outputs": [
    {
     "data": {
      "text/plain": [
       "Index(['Id', 'SepalLengthCm', 'SepalWidthCm', 'PetalLengthCm', 'PetalWidthCm',\n",
       "       'Species'],\n",
       "      dtype='object')"
      ]
     },
     "execution_count": 7,
     "metadata": {},
     "output_type": "execute_result"
    }
   ],
   "source": [
    "df.columns"
   ]
  },
  {
   "cell_type": "code",
   "execution_count": 8,
   "id": "d8c289a3",
   "metadata": {
    "execution": {
     "iopub.execute_input": "2021-09-19T16:49:44.398880Z",
     "iopub.status.busy": "2021-09-19T16:49:44.397865Z",
     "iopub.status.idle": "2021-09-19T16:49:44.405377Z",
     "shell.execute_reply": "2021-09-19T16:49:44.405838Z",
     "shell.execute_reply.started": "2021-09-19T16:48:51.833845Z"
    },
    "papermill": {
     "duration": 0.039128,
     "end_time": "2021-09-19T16:49:44.406018",
     "exception": false,
     "start_time": "2021-09-19T16:49:44.366890",
     "status": "completed"
    },
    "tags": []
   },
   "outputs": [
    {
     "data": {
      "text/plain": [
       "Id                 int64\n",
       "SepalLengthCm    float64\n",
       "SepalWidthCm     float64\n",
       "PetalLengthCm    float64\n",
       "PetalWidthCm     float64\n",
       "Species           object\n",
       "dtype: object"
      ]
     },
     "execution_count": 8,
     "metadata": {},
     "output_type": "execute_result"
    }
   ],
   "source": [
    "df.dtypes"
   ]
  },
  {
   "cell_type": "code",
   "execution_count": 9,
   "id": "867224b5",
   "metadata": {
    "execution": {
     "iopub.execute_input": "2021-09-19T16:49:44.468088Z",
     "iopub.status.busy": "2021-09-19T16:49:44.462952Z",
     "iopub.status.idle": "2021-09-19T16:49:44.473255Z",
     "shell.execute_reply": "2021-09-19T16:49:44.472316Z",
     "shell.execute_reply.started": "2021-09-19T16:48:51.849821Z"
    },
    "papermill": {
     "duration": 0.040818,
     "end_time": "2021-09-19T16:49:44.473453",
     "exception": false,
     "start_time": "2021-09-19T16:49:44.432635",
     "status": "completed"
    },
    "tags": []
   },
   "outputs": [
    {
     "name": "stdout",
     "output_type": "stream",
     "text": [
      "['Id' 'SepalLengthCm' 'SepalWidthCm' 'PetalLengthCm' 'PetalWidthCm']\n"
     ]
    }
   ],
   "source": [
    "#numeric columns from datasets\n",
    "df_numeric_col=df.select_dtypes(include=[np.number])\n",
    "numeric_cols=df_numeric_col.columns.values\n",
    "print(numeric_cols)"
   ]
  },
  {
   "cell_type": "code",
   "execution_count": 10,
   "id": "4f4e48be",
   "metadata": {
    "execution": {
     "iopub.execute_input": "2021-09-19T16:49:44.536926Z",
     "iopub.status.busy": "2021-09-19T16:49:44.536154Z",
     "iopub.status.idle": "2021-09-19T16:49:44.539206Z",
     "shell.execute_reply": "2021-09-19T16:49:44.539925Z",
     "shell.execute_reply.started": "2021-09-19T16:48:51.865069Z"
    },
    "papermill": {
     "duration": 0.038995,
     "end_time": "2021-09-19T16:49:44.540160",
     "exception": false,
     "start_time": "2021-09-19T16:49:44.501165",
     "status": "completed"
    },
    "tags": []
   },
   "outputs": [
    {
     "name": "stdout",
     "output_type": "stream",
     "text": [
      "['Species']\n"
     ]
    }
   ],
   "source": [
    "#non-numeric columns from datasets \n",
    "df_non_numeric_col=df.select_dtypes(exclude=[np.number])\n",
    "non_numeric_cols=df_non_numeric_col.columns.values\n",
    "print(non_numeric_cols)"
   ]
  },
  {
   "cell_type": "code",
   "execution_count": 11,
   "id": "9d5fa9e4",
   "metadata": {
    "execution": {
     "iopub.execute_input": "2021-09-19T16:49:44.614999Z",
     "iopub.status.busy": "2021-09-19T16:49:44.610003Z",
     "iopub.status.idle": "2021-09-19T16:49:44.618930Z",
     "shell.execute_reply": "2021-09-19T16:49:44.619503Z",
     "shell.execute_reply.started": "2021-09-19T16:48:51.880539Z"
    },
    "papermill": {
     "duration": 0.050663,
     "end_time": "2021-09-19T16:49:44.619736",
     "exception": false,
     "start_time": "2021-09-19T16:49:44.569073",
     "status": "completed"
    },
    "tags": []
   },
   "outputs": [
    {
     "data": {
      "text/html": [
       "<div>\n",
       "<style scoped>\n",
       "    .dataframe tbody tr th:only-of-type {\n",
       "        vertical-align: middle;\n",
       "    }\n",
       "\n",
       "    .dataframe tbody tr th {\n",
       "        vertical-align: top;\n",
       "    }\n",
       "\n",
       "    .dataframe thead th {\n",
       "        text-align: right;\n",
       "    }\n",
       "</style>\n",
       "<table border=\"1\" class=\"dataframe\">\n",
       "  <thead>\n",
       "    <tr style=\"text-align: right;\">\n",
       "      <th></th>\n",
       "      <th>Id</th>\n",
       "      <th>SepalLengthCm</th>\n",
       "      <th>SepalWidthCm</th>\n",
       "      <th>PetalLengthCm</th>\n",
       "      <th>PetalWidthCm</th>\n",
       "    </tr>\n",
       "  </thead>\n",
       "  <tbody>\n",
       "    <tr>\n",
       "      <th>Id</th>\n",
       "      <td>1.000000</td>\n",
       "      <td>0.716676</td>\n",
       "      <td>-0.397729</td>\n",
       "      <td>0.882747</td>\n",
       "      <td>0.899759</td>\n",
       "    </tr>\n",
       "    <tr>\n",
       "      <th>SepalLengthCm</th>\n",
       "      <td>0.716676</td>\n",
       "      <td>1.000000</td>\n",
       "      <td>-0.109369</td>\n",
       "      <td>0.871754</td>\n",
       "      <td>0.817954</td>\n",
       "    </tr>\n",
       "    <tr>\n",
       "      <th>SepalWidthCm</th>\n",
       "      <td>-0.397729</td>\n",
       "      <td>-0.109369</td>\n",
       "      <td>1.000000</td>\n",
       "      <td>-0.420516</td>\n",
       "      <td>-0.356544</td>\n",
       "    </tr>\n",
       "    <tr>\n",
       "      <th>PetalLengthCm</th>\n",
       "      <td>0.882747</td>\n",
       "      <td>0.871754</td>\n",
       "      <td>-0.420516</td>\n",
       "      <td>1.000000</td>\n",
       "      <td>0.962757</td>\n",
       "    </tr>\n",
       "    <tr>\n",
       "      <th>PetalWidthCm</th>\n",
       "      <td>0.899759</td>\n",
       "      <td>0.817954</td>\n",
       "      <td>-0.356544</td>\n",
       "      <td>0.962757</td>\n",
       "      <td>1.000000</td>\n",
       "    </tr>\n",
       "  </tbody>\n",
       "</table>\n",
       "</div>"
      ],
      "text/plain": [
       "                     Id  SepalLengthCm  SepalWidthCm  PetalLengthCm  \\\n",
       "Id             1.000000       0.716676     -0.397729       0.882747   \n",
       "SepalLengthCm  0.716676       1.000000     -0.109369       0.871754   \n",
       "SepalWidthCm  -0.397729      -0.109369      1.000000      -0.420516   \n",
       "PetalLengthCm  0.882747       0.871754     -0.420516       1.000000   \n",
       "PetalWidthCm   0.899759       0.817954     -0.356544       0.962757   \n",
       "\n",
       "               PetalWidthCm  \n",
       "Id                 0.899759  \n",
       "SepalLengthCm      0.817954  \n",
       "SepalWidthCm      -0.356544  \n",
       "PetalLengthCm      0.962757  \n",
       "PetalWidthCm       1.000000  "
      ]
     },
     "execution_count": 11,
     "metadata": {},
     "output_type": "execute_result"
    }
   ],
   "source": [
    "df.corr()"
   ]
  },
  {
   "cell_type": "code",
   "execution_count": 12,
   "id": "43b1dc46",
   "metadata": {
    "execution": {
     "iopub.execute_input": "2021-09-19T16:49:44.683328Z",
     "iopub.status.busy": "2021-09-19T16:49:44.680312Z",
     "iopub.status.idle": "2021-09-19T16:49:45.040036Z",
     "shell.execute_reply": "2021-09-19T16:49:45.039345Z",
     "shell.execute_reply.started": "2021-09-19T16:48:51.904931Z"
    },
    "papermill": {
     "duration": 0.39211,
     "end_time": "2021-09-19T16:49:45.040223",
     "exception": false,
     "start_time": "2021-09-19T16:49:44.648113",
     "status": "completed"
    },
    "tags": []
   },
   "outputs": [
    {
     "data": {
      "image/png": "[encoded data removed]",
      "text/plain": [
       "<Figure size 432x288 with 2 Axes>"
      ]
     },
     "metadata": {
      "needs_background": "light"
     },
     "output_type": "display_data"
    }
   ],
   "source": [
    "sns.heatmap(df.corr())\n",
    "plt.show()"
   ]
  },
  {
   "cell_type": "markdown",
   "id": "6e4d7a0e",
   "metadata": {
    "papermill": {
     "duration": 0.028272,
     "end_time": "2021-09-19T16:49:45.098216",
     "exception": false,
     "start_time": "2021-09-19T16:49:45.069944",
     "status": "completed"
    },
    "tags": []
   },
   "source": [
    "now we will find missing values from data "
   ]
  },
  {
   "cell_type": "code",
   "execution_count": 13,
   "id": "70675703",
   "metadata": {
    "execution": {
     "iopub.execute_input": "2021-09-19T16:49:45.167207Z",
     "iopub.status.busy": "2021-09-19T16:49:45.166252Z",
     "iopub.status.idle": "2021-09-19T16:49:45.171300Z",
     "shell.execute_reply": "2021-09-19T16:49:45.170593Z",
     "shell.execute_reply.started": "2021-09-19T16:48:52.224848Z"
    },
    "papermill": {
     "duration": 0.044503,
     "end_time": "2021-09-19T16:49:45.171452",
     "exception": false,
     "start_time": "2021-09-19T16:49:45.126949",
     "status": "completed"
    },
    "tags": []
   },
   "outputs": [
    {
     "name": "stdout",
     "output_type": "stream",
     "text": [
      "Id - 0%\n",
      "SepalLengthCm - 0%\n",
      "SepalWidthCm - 0%\n",
      "PetalLengthCm - 0%\n",
      "PetalWidthCm - 0%\n",
      "Species - 0%\n"
     ]
    }
   ],
   "source": [
    "#missing data through percentage list method \n",
    "for col in df.columns:\n",
    "    pct_missing=np.mean(df[col].isnull())\n",
    "    print('{} - {}%'.format(col,round(pct_missing*100)))"
   ]
  },
  {
   "cell_type": "code",
   "execution_count": 14,
   "id": "56d35089",
   "metadata": {
    "execution": {
     "iopub.execute_input": "2021-09-19T16:49:45.239985Z",
     "iopub.status.busy": "2021-09-19T16:49:45.239132Z",
     "iopub.status.idle": "2021-09-19T16:49:45.243073Z",
     "shell.execute_reply": "2021-09-19T16:49:45.242447Z",
     "shell.execute_reply.started": "2021-09-19T16:48:52.235863Z"
    },
    "papermill": {
     "duration": 0.041344,
     "end_time": "2021-09-19T16:49:45.243233",
     "exception": false,
     "start_time": "2021-09-19T16:49:45.201889",
     "status": "completed"
    },
    "tags": []
   },
   "outputs": [
    {
     "data": {
      "text/plain": [
       "array([  1,   2,   3,   4,   5,   6,   7,   8,   9,  10,  11,  12,  13,\n",
       "        14,  15,  16,  17,  18,  19,  20,  21,  22,  23,  24,  25,  26,\n",
       "        27,  28,  29,  30,  31,  32,  33,  34,  35,  36,  37,  38,  39,\n",
       "        40,  41,  42,  43,  44,  45,  46,  47,  48,  49,  50,  51,  52,\n",
       "        53,  54,  55,  56,  57,  58,  59,  60,  61,  62,  63,  64,  65,\n",
       "        66,  67,  68,  69,  70,  71,  72,  73,  74,  75,  76,  77,  78,\n",
       "        79,  80,  81,  82,  83,  84,  85,  86,  87,  88,  89,  90,  91,\n",
       "        92,  93,  94,  95,  96,  97,  98,  99, 100, 101, 102, 103, 104,\n",
       "       105, 106, 107, 108, 109, 110, 111, 112, 113, 114, 115, 116, 117,\n",
       "       118, 119, 120, 121, 122, 123, 124, 125, 126, 127, 128, 129, 130,\n",
       "       131, 132, 133, 134, 135, 136, 137, 138, 139, 140, 141, 142, 143,\n",
       "       144, 145, 146, 147, 148, 149, 150])"
      ]
     },
     "execution_count": 14,
     "metadata": {},
     "output_type": "execute_result"
    }
   ],
   "source": [
    "df['Id'].unique()"
   ]
  },
  {
   "cell_type": "code",
   "execution_count": 15,
   "id": "277a9a46",
   "metadata": {
    "execution": {
     "iopub.execute_input": "2021-09-19T16:49:45.306683Z",
     "iopub.status.busy": "2021-09-19T16:49:45.306022Z",
     "iopub.status.idle": "2021-09-19T16:49:45.315650Z",
     "shell.execute_reply": "2021-09-19T16:49:45.316120Z",
     "shell.execute_reply.started": "2021-09-19T16:48:52.250287Z"
    },
    "papermill": {
     "duration": 0.044017,
     "end_time": "2021-09-19T16:49:45.316325",
     "exception": false,
     "start_time": "2021-09-19T16:49:45.272308",
     "status": "completed"
    },
    "tags": []
   },
   "outputs": [
    {
     "data": {
      "text/plain": [
       "array([5.1, 4.9, 4.7, 4.6, 5. , 5.4, 4.4, 4.8, 4.3, 5.8, 5.7, 5.2, 5.5,\n",
       "       4.5, 5.3, 7. , 6.4, 6.9, 6.5, 6.3, 6.6, 5.9, 6. , 6.1, 5.6, 6.7,\n",
       "       6.2, 6.8, 7.1, 7.6, 7.3, 7.2, 7.7, 7.4, 7.9])"
      ]
     },
     "execution_count": 15,
     "metadata": {},
     "output_type": "execute_result"
    }
   ],
   "source": [
    "df['SepalLengthCm'].unique()"
   ]
  },
  {
   "cell_type": "code",
   "execution_count": 16,
   "id": "f78264eb",
   "metadata": {
    "execution": {
     "iopub.execute_input": "2021-09-19T16:49:45.381417Z",
     "iopub.status.busy": "2021-09-19T16:49:45.380695Z",
     "iopub.status.idle": "2021-09-19T16:49:45.388078Z",
     "shell.execute_reply": "2021-09-19T16:49:45.387345Z",
     "shell.execute_reply.started": "2021-09-19T16:48:52.266989Z"
    },
    "papermill": {
     "duration": 0.042432,
     "end_time": "2021-09-19T16:49:45.388268",
     "exception": false,
     "start_time": "2021-09-19T16:49:45.345836",
     "status": "completed"
    },
    "tags": []
   },
   "outputs": [
    {
     "data": {
      "text/plain": [
       "array([3.5, 3. , 3.2, 3.1, 3.6, 3.9, 3.4, 2.9, 3.7, 4. , 4.4, 3.8, 3.3,\n",
       "       4.1, 4.2, 2.3, 2.8, 2.4, 2.7, 2. , 2.2, 2.5, 2.6])"
      ]
     },
     "execution_count": 16,
     "metadata": {},
     "output_type": "execute_result"
    }
   ],
   "source": [
    "df['SepalWidthCm'].unique()"
   ]
  },
  {
   "cell_type": "code",
   "execution_count": 17,
   "id": "b566aaa2",
   "metadata": {
    "execution": {
     "iopub.execute_input": "2021-09-19T16:49:45.457123Z",
     "iopub.status.busy": "2021-09-19T16:49:45.453919Z",
     "iopub.status.idle": "2021-09-19T16:49:45.461338Z",
     "shell.execute_reply": "2021-09-19T16:49:45.460790Z",
     "shell.execute_reply.started": "2021-09-19T16:48:52.281665Z"
    },
    "papermill": {
     "duration": 0.041722,
     "end_time": "2021-09-19T16:49:45.461509",
     "exception": false,
     "start_time": "2021-09-19T16:49:45.419787",
     "status": "completed"
    },
    "tags": []
   },
   "outputs": [
    {
     "data": {
      "text/plain": [
       "array([1.4, 1.3, 1.5, 1.7, 1.6, 1.1, 1.2, 1. , 1.9, 4.7, 4.5, 4.9, 4. ,\n",
       "       4.6, 3.3, 3.9, 3.5, 4.2, 3.6, 4.4, 4.1, 4.8, 4.3, 5. , 3.8, 3.7,\n",
       "       5.1, 3. , 6. , 5.9, 5.6, 5.8, 6.6, 6.3, 6.1, 5.3, 5.5, 6.7, 6.9,\n",
       "       5.7, 6.4, 5.4, 5.2])"
      ]
     },
     "execution_count": 17,
     "metadata": {},
     "output_type": "execute_result"
    }
   ],
   "source": [
    "df['PetalLengthCm'].unique()"
   ]
  },
  {
   "cell_type": "code",
   "execution_count": 18,
   "id": "1a3330e8",
   "metadata": {
    "execution": {
     "iopub.execute_input": "2021-09-19T16:49:45.529448Z",
     "iopub.status.busy": "2021-09-19T16:49:45.528432Z",
     "iopub.status.idle": "2021-09-19T16:49:45.533416Z",
     "shell.execute_reply": "2021-09-19T16:49:45.532706Z",
     "shell.execute_reply.started": "2021-09-19T16:48:52.297219Z"
    },
    "papermill": {
     "duration": 0.041624,
     "end_time": "2021-09-19T16:49:45.533612",
     "exception": false,
     "start_time": "2021-09-19T16:49:45.491988",
     "status": "completed"
    },
    "tags": []
   },
   "outputs": [
    {
     "data": {
      "text/plain": [
       "array([0.2, 0.4, 0.3, 0.1, 0.5, 0.6, 1.4, 1.5, 1.3, 1.6, 1. , 1.1, 1.8,\n",
       "       1.2, 1.7, 2.5, 1.9, 2.1, 2.2, 2. , 2.4, 2.3])"
      ]
     },
     "execution_count": 18,
     "metadata": {},
     "output_type": "execute_result"
    }
   ],
   "source": [
    "df['PetalWidthCm'].unique()"
   ]
  },
  {
   "cell_type": "code",
   "execution_count": 19,
   "id": "7eaa4628",
   "metadata": {
    "execution": {
     "iopub.execute_input": "2021-09-19T16:49:45.601807Z",
     "iopub.status.busy": "2021-09-19T16:49:45.601073Z",
     "iopub.status.idle": "2021-09-19T16:49:45.605217Z",
     "shell.execute_reply": "2021-09-19T16:49:45.604650Z",
     "shell.execute_reply.started": "2021-09-19T16:48:52.311515Z"
    },
    "papermill": {
     "duration": 0.041156,
     "end_time": "2021-09-19T16:49:45.605394",
     "exception": false,
     "start_time": "2021-09-19T16:49:45.564238",
     "status": "completed"
    },
    "tags": []
   },
   "outputs": [
    {
     "data": {
      "text/plain": [
       "array(['Iris-setosa', 'Iris-versicolor', 'Iris-virginica'], dtype=object)"
      ]
     },
     "execution_count": 19,
     "metadata": {},
     "output_type": "execute_result"
    }
   ],
   "source": [
    "df['Species'].unique()"
   ]
  },
  {
   "cell_type": "code",
   "execution_count": 20,
   "id": "468dbe86",
   "metadata": {
    "execution": {
     "iopub.execute_input": "2021-09-19T16:49:45.672909Z",
     "iopub.status.busy": "2021-09-19T16:49:45.672225Z",
     "iopub.status.idle": "2021-09-19T16:49:47.531931Z",
     "shell.execute_reply": "2021-09-19T16:49:47.531248Z",
     "shell.execute_reply.started": "2021-09-19T16:48:52.329699Z"
    },
    "papermill": {
     "duration": 1.894652,
     "end_time": "2021-09-19T16:49:47.532086",
     "exception": false,
     "start_time": "2021-09-19T16:49:45.637434",
     "status": "completed"
    },
    "tags": []
   },
   "outputs": [
    {
     "data": {
      "text/plain": [
       "array([[<AxesSubplot:title={'center':'Id'}>,\n",
       "        <AxesSubplot:title={'center':'SepalLengthCm'}>],\n",
       "       [<AxesSubplot:title={'center':'SepalWidthCm'}>,\n",
       "        <AxesSubplot:title={'center':'PetalLengthCm'}>],\n",
       "       [<AxesSubplot:title={'center':'PetalWidthCm'}>, <AxesSubplot:>]],\n",
       "      dtype=object)"
      ]
     },
     "execution_count": 20,
     "metadata": {},
     "output_type": "execute_result"
    },
    {
     "data": {
      "image/png": "[encoded data removed]",
      "text/plain": [
       "<Figure size 1152x1440 with 6 Axes>"
      ]
     },
     "metadata": {
      "needs_background": "light"
     },
     "output_type": "display_data"
    }
   ],
   "source": [
    "df.hist(figsize=(16,20),bins=50,xlabelsize=8,ylabelsize=8)"
   ]
  },
  {
   "cell_type": "code",
   "execution_count": 21,
   "id": "5804ad27",
   "metadata": {
    "execution": {
     "iopub.execute_input": "2021-09-19T16:49:47.614056Z",
     "iopub.status.busy": "2021-09-19T16:49:47.613394Z",
     "iopub.status.idle": "2021-09-19T16:49:48.967748Z",
     "shell.execute_reply": "2021-09-19T16:49:48.967199Z",
     "shell.execute_reply.started": "2021-09-19T16:48:53.992887Z"
    },
    "papermill": {
     "duration": 1.393691,
     "end_time": "2021-09-19T16:49:48.967905",
     "exception": false,
     "start_time": "2021-09-19T16:49:47.574214",
     "status": "completed"
    },
    "tags": []
   },
   "outputs": [
    {
     "data": {
      "image/png": "[encoded data removed]",
      "text/plain": [
       "<Figure size 900x180 with 6 Axes>"
      ]
     },
     "metadata": {
      "needs_background": "light"
     },
     "output_type": "display_data"
    },
    {
     "data": {
      "image/png": "[encoded data removed]",
      "text/plain": [
       "<Figure size 180x180 with 1 Axes>"
      ]
     },
     "metadata": {
      "needs_background": "light"
     },
     "output_type": "display_data"
    }
   ],
   "source": [
    "for i in range(0, len(df.columns), 5):\n",
    "    sns.pairplot(data=df,\n",
    "                x_vars=df.columns[i:i+5],\n",
    "                y_vars=['PetalLengthCm'])"
   ]
  },
  {
   "cell_type": "code",
   "execution_count": 22,
   "id": "d8d3f24c",
   "metadata": {
    "execution": {
     "iopub.execute_input": "2021-09-19T16:49:49.067647Z",
     "iopub.status.busy": "2021-09-19T16:49:49.049132Z",
     "iopub.status.idle": "2021-09-19T16:49:49.482766Z",
     "shell.execute_reply": "2021-09-19T16:49:49.483358Z",
     "shell.execute_reply.started": "2021-09-19T16:48:55.208243Z"
    },
    "papermill": {
     "duration": 0.477404,
     "end_time": "2021-09-19T16:49:49.483562",
     "exception": false,
     "start_time": "2021-09-19T16:49:49.006158",
     "status": "completed"
    },
    "tags": []
   },
   "outputs": [
    {
     "data": {
      "text/plain": [
       "Text(0.5, 1.0, 'Correlation heatmap ')"
      ]
     },
     "execution_count": 22,
     "metadata": {},
     "output_type": "execute_result"
    },
    {
     "data": {
      "image/png": "[encoded data removed]",
      "text/plain": [
       "<Figure size 1152x432 with 2 Axes>"
      ]
     },
     "metadata": {
      "needs_background": "light"
     },
     "output_type": "display_data"
    }
   ],
   "source": [
    "plt.figure(figsize=(16,6))\n",
    "heatmap= sns.heatmap(df.corr(),vmin=1,vmax=1,annot=True)\n",
    "heatmap.set_title('Correlation heatmap ', fontdict={'fontsize':12},pad=12)"
   ]
  },
  {
   "cell_type": "code",
   "execution_count": 23,
   "id": "cc5b7906",
   "metadata": {
    "execution": {
     "iopub.execute_input": "2021-09-19T16:49:49.586874Z",
     "iopub.status.busy": "2021-09-19T16:49:49.586156Z",
     "iopub.status.idle": "2021-09-19T16:49:49.886635Z",
     "shell.execute_reply": "2021-09-19T16:49:49.887220Z",
     "shell.execute_reply.started": "2021-09-19T16:48:55.608772Z"
    },
    "papermill": {
     "duration": 0.367264,
     "end_time": "2021-09-19T16:49:49.887423",
     "exception": false,
     "start_time": "2021-09-19T16:49:49.520159",
     "status": "completed"
    },
    "tags": []
   },
   "outputs": [
    {
     "data": {
      "text/plain": [
       "<AxesSubplot:xlabel='PetalLengthCm', ylabel='Species'>"
      ]
     },
     "execution_count": 23,
     "metadata": {},
     "output_type": "execute_result"
    },
    {
     "data": {
      "image/png": "[encoded data removed]",
      "text/plain": [
       "<Figure size 432x288 with 1 Axes>"
      ]
     },
     "metadata": {},
     "output_type": "display_data"
    }
   ],
   "source": [
    "sns.set_style(\"whitegrid\")\n",
    "sns.boxplot(x='PetalLengthCm',y='Species',data=df)"
   ]
  },
  {
   "cell_type": "code",
   "execution_count": 24,
   "id": "9cbc1c55",
   "metadata": {
    "execution": {
     "iopub.execute_input": "2021-09-19T16:49:49.973284Z",
     "iopub.status.busy": "2021-09-19T16:49:49.967834Z",
     "iopub.status.idle": "2021-09-19T16:49:50.300028Z",
     "shell.execute_reply": "2021-09-19T16:49:50.299290Z",
     "shell.execute_reply.started": "2021-09-19T16:48:55.910422Z"
    },
    "papermill": {
     "duration": 0.374571,
     "end_time": "2021-09-19T16:49:50.300213",
     "exception": false,
     "start_time": "2021-09-19T16:49:49.925642",
     "status": "completed"
    },
    "tags": []
   },
   "outputs": [
    {
     "data": {
      "text/plain": [
       "<AxesSubplot:xlabel='SepalLengthCm', ylabel='Species'>"
      ]
     },
     "execution_count": 24,
     "metadata": {},
     "output_type": "execute_result"
    },
    {
     "data": {
      "image/png": "[encoded data removed]",
      "text/plain": [
       "<Figure size 432x288 with 1 Axes>"
      ]
     },
     "metadata": {},
     "output_type": "display_data"
    }
   ],
   "source": [
    "sns.set_style(\"whitegrid\")\n",
    "sns.boxplot(x='SepalLengthCm',y='Species',data=df)"
   ]
  },
  {
   "cell_type": "code",
   "execution_count": 25,
   "id": "8adf9f50",
   "metadata": {
    "execution": {
     "iopub.execute_input": "2021-09-19T16:49:50.405467Z",
     "iopub.status.busy": "2021-09-19T16:49:50.404588Z",
     "iopub.status.idle": "2021-09-19T16:49:50.695933Z",
     "shell.execute_reply": "2021-09-19T16:49:50.695335Z",
     "shell.execute_reply.started": "2021-09-19T16:48:56.346881Z"
    },
    "papermill": {
     "duration": 0.357012,
     "end_time": "2021-09-19T16:49:50.696107",
     "exception": false,
     "start_time": "2021-09-19T16:49:50.339095",
     "status": "completed"
    },
    "tags": []
   },
   "outputs": [
    {
     "data": {
      "text/plain": [
       "<AxesSubplot:xlabel='PetalWidthCm', ylabel='Species'>"
      ]
     },
     "execution_count": 25,
     "metadata": {},
     "output_type": "execute_result"
    },
    {
     "data": {
      "image/png": "[encoded data removed]",
      "text/plain": [
       "<Figure size 432x288 with 1 Axes>"
      ]
     },
     "metadata": {},
     "output_type": "display_data"
    }
   ],
   "source": [
    "sns.set_style(\"whitegrid\")\n",
    "sns.boxplot(x='PetalWidthCm',y='Species',data=df)"
   ]
  },
  {
   "cell_type": "code",
   "execution_count": 26,
   "id": "ad38e988",
   "metadata": {
    "execution": {
     "iopub.execute_input": "2021-09-19T16:49:51.017971Z",
     "iopub.status.busy": "2021-09-19T16:49:51.011454Z",
     "iopub.status.idle": "2021-09-19T16:49:51.301748Z",
     "shell.execute_reply": "2021-09-19T16:49:51.302301Z",
     "shell.execute_reply.started": "2021-09-19T16:48:56.637891Z"
    },
    "papermill": {
     "duration": 0.5661,
     "end_time": "2021-09-19T16:49:51.302521",
     "exception": false,
     "start_time": "2021-09-19T16:49:50.736421",
     "status": "completed"
    },
    "tags": []
   },
   "outputs": [
    {
     "data": {
      "text/plain": [
       "<AxesSubplot:xlabel='SepalWidthCm', ylabel='Species'>"
      ]
     },
     "execution_count": 26,
     "metadata": {},
     "output_type": "execute_result"
    },
    {
     "data": {
      "image/png": "[encoded data removed]",
      "text/plain": [
       "<Figure size 432x288 with 1 Axes>"
      ]
     },
     "metadata": {},
     "output_type": "display_data"
    }
   ],
   "source": [
    "sns.set_style(\"whitegrid\")\n",
    "sns.boxplot(x='SepalWidthCm',y='Species',data=df)"
   ]
  },
  {
   "cell_type": "markdown",
   "id": "ca770895",
   "metadata": {
    "papermill": {
     "duration": 0.040668,
     "end_time": "2021-09-19T16:49:51.384527",
     "exception": false,
     "start_time": "2021-09-19T16:49:51.343859",
     "status": "completed"
    },
    "tags": []
   },
   "source": [
    "**Decision Tree Classifier****"
   ]
  },
  {
   "cell_type": "code",
   "execution_count": 27,
   "id": "6a54215b",
   "metadata": {
    "execution": {
     "iopub.execute_input": "2021-09-19T16:49:51.498009Z",
     "iopub.status.busy": "2021-09-19T16:49:51.489230Z",
     "iopub.status.idle": "2021-09-19T16:49:51.517959Z",
     "shell.execute_reply": "2021-09-19T16:49:51.518485Z",
     "shell.execute_reply.started": "2021-09-19T16:48:56.930521Z"
    },
    "papermill": {
     "duration": 0.093264,
     "end_time": "2021-09-19T16:49:51.518709",
     "exception": false,
     "start_time": "2021-09-19T16:49:51.425445",
     "status": "completed"
    },
    "tags": []
   },
   "outputs": [
    {
     "name": "stdout",
     "output_type": "stream",
     "text": [
      "results using gini index: \n",
      "predicted values: \n",
      "['Iris-virginica' 'Iris-setosa' 'Iris-virginica' 'Iris-setosa'\n",
      " 'Iris-virginica' 'Iris-virginica' 'Iris-setosa' 'Iris-setosa'\n",
      " 'Iris-virginica' 'Iris-setosa' 'Iris-setosa' 'Iris-virginica'\n",
      " 'Iris-setosa' 'Iris-setosa' 'Iris-virginica' 'Iris-versicolor'\n",
      " 'Iris-versicolor' 'Iris-virginica' 'Iris-virginica' 'Iris-virginica'\n",
      " 'Iris-virginica' 'Iris-setosa' 'Iris-virginica' 'Iris-setosa'\n",
      " 'Iris-versicolor' 'Iris-virginica' 'Iris-versicolor' 'Iris-setosa'\n",
      " 'Iris-versicolor' 'Iris-virginica' 'Iris-versicolor' 'Iris-versicolor'\n",
      " 'Iris-versicolor' 'Iris-setosa' 'Iris-setosa' 'Iris-versicolor'\n",
      " 'Iris-setosa' 'Iris-versicolor']\n",
      "Confusion matrix:  [[14  0  0]\n",
      " [ 0  9  1]\n",
      " [ 0  1 13]]\n",
      "accuracy:  0.9473684210526315\n",
      "report:                   precision    recall  f1-score   support\n",
      "\n",
      "    Iris-setosa       1.00      1.00      1.00        14\n",
      "Iris-versicolor       0.90      0.90      0.90        10\n",
      " Iris-virginica       0.93      0.93      0.93        14\n",
      "\n",
      "       accuracy                           0.95        38\n",
      "      macro avg       0.94      0.94      0.94        38\n",
      "   weighted avg       0.95      0.95      0.95        38\n",
      "\n"
     ]
    }
   ],
   "source": [
    "import pandas as pd\n",
    "import numpy as np \n",
    "from sklearn.metrics import confusion_matrix\n",
    "from sklearn.model_selection import train_test_split\n",
    "from sklearn.metrics import roc_auc_score\n",
    "from sklearn.tree import DecisionTreeClassifier\n",
    "from sklearn.metrics import accuracy_score\n",
    "from sklearn.metrics import classification_report\n",
    "\n",
    "def printdata():\n",
    "    print(\"Dataset Length: \",len(df))\n",
    "    print(\"Dataset shape: \",df.shape)\n",
    "    \n",
    "    #printing dataset observations\n",
    "    print(\"dataset: \",df.head())\n",
    "    return df\n",
    "\n",
    "#function to split dataset \n",
    "def splitdataset(df):\n",
    "    #seperating target variables \n",
    "    x=df[['SepalLengthCm','SepalWidthCm','PetalLengthCm','PetalWidthCm']]\n",
    "    y=df[['Species']]\n",
    "         \n",
    "    #spliting dataset in test and train dataset \n",
    "    x_train,x_test,y_train,y_test=train_test_split(x,y,random_state=100)\n",
    "    \n",
    "    return x,y,x_train,x_test,y_train,y_test\n",
    "\n",
    "#function to perform training from gini_index\n",
    "def train_using_gini(x_train,x_test,y_train):\n",
    "    #creating classifier object \n",
    "    clf_gini=DecisionTreeClassifier(criterion=\"gini\",random_state=100,max_depth=3,min_samples_leaf=5)\n",
    "    \n",
    "    #performing training \n",
    "    clf_gini.fit(x_train,y_train)\n",
    "    return clf_gini\n",
    "\n",
    "#function to perform training with entropy \n",
    "def train_using_entropy(x_train,x_test,y_train):\n",
    "    \n",
    "    #decision tree with entropy \n",
    "    clf_entropy =DecisionTreeClassifier(criterion=\"entropy\",random_state=100,max_depth=3,min_samples_leaf=5)\n",
    "    \n",
    "    #performing training \n",
    "    clf_entropy.fit(x_train,y_train)\n",
    "    return clf_entropy\n",
    "\n",
    "def prediction(x_test,clf_object):\n",
    "    \n",
    "    #prediction on test with giniIndex\n",
    "    y_pred=clf_object.predict(x_test)\n",
    "    print(\"predicted values: \")\n",
    "    print(y_pred)\n",
    "    return y_pred\n",
    "\n",
    "#function to calculate accuracy \n",
    "def cal_accuracy(y_test,y_pred):\n",
    "    print(\"Confusion matrix: \",\n",
    "         confusion_matrix(y_test,y_pred))\n",
    "    print(\"accuracy: \",\n",
    "         accuracy_score(y_test,y_pred))\n",
    "    print(\"report: \",\n",
    "         classification_report(y_test,y_pred))\n",
    "    \n",
    "#driver code\n",
    "def main():\n",
    "    \n",
    "    #building phase \n",
    "    data=df\n",
    "    x,y,x_train,x_test,y_train,y_test= splitdataset(df)\n",
    "    clf_gini=train_using_gini(x_train,x_test,y_train)\n",
    "    \n",
    "    #operational phase \n",
    "    print(\"results using gini index: \")\n",
    "    \n",
    "    #prediction using gini \n",
    "    y_pred_gini=prediction(x_test,clf_gini)\n",
    "    cal_accuracy(y_test,y_pred_gini)\n",
    "    \n",
    "\n",
    "    \n",
    "    # Calling main function\n",
    "if __name__==\"__main__\":\n",
    "    main()\n",
    "       "
   ]
  }
 ],
 "metadata": {
  "kernelspec": {
   "display_name": "Python 3",
   "language": "python",
   "name": "python3"
  },
  "language_info": {
   "codemirror_mode": {
    "name": "ipython",
    "version": 3
   },
   "file_extension": ".py",
   "mimetype": "text/x-python",
   "name": "python",
   "nbconvert_exporter": "python",
   "pygments_lexer": "ipython3",
   "version": "3.7.10"
  },
  "papermill": {
   "default_parameters": {},
   "duration": 19.69256,
   "end_time": "2021-09-19T16:49:52.473078",
   "environment_variables": {},
   "exception": null,
   "input_path": "__notebook__.ipynb",
   "output_path": "__notebook__.ipynb",
   "parameters": {},
   "start_time": "2021-09-19T16:49:32.780518",
   "version": "2.3.3"
  }
 },
 "nbformat": 4,
 "nbformat_minor": 5
}
